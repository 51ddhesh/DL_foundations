{
 "cells": [
  {
   "cell_type": "markdown",
   "id": "f000844a",
   "metadata": {},
   "source": [
    "This Notebook Implements the [Learning representations by back-propogating errors](https://www.cs.utoronto.ca/~hinton/absps/naturebp.pdf) paper"
   ]
  },
  {
   "cell_type": "code",
   "execution_count": 1,
   "id": "4176e2d0",
   "metadata": {},
   "outputs": [],
   "source": [
    "import numpy as np"
   ]
  },
  {
   "cell_type": "code",
   "execution_count": 2,
   "id": "60dfbe95",
   "metadata": {},
   "outputs": [],
   "source": [
    "def sigmoid(x):\n",
    "    return 1 / (1 + np.exp(-x))\n",
    "\n",
    "def sigmoid_derivative(x):\n",
    "    return x * (1 - x)"
   ]
  },
  {
   "cell_type": "code",
   "execution_count": null,
   "id": "8799f335",
   "metadata": {},
   "outputs": [],
   "source": [
    "x = np.array([\n",
    "    [0, 0],\n",
    "    [0, 1],\n",
    "    [1, 0],\n",
    "    [1, 1]\n",
    "])\n",
    "\n",
    "y = np.array([[0], [1], [1], [0]]) # Target"
   ]
  },
  {
   "cell_type": "code",
   "execution_count": 4,
   "id": "3deb7956",
   "metadata": {},
   "outputs": [],
   "source": [
    "np.random.seed(42)\n",
    "weights_input_hidden = np.random.rand(2, 2)\n",
    "bias_hidden = np.random.rand(1, 2)\n",
    "\n",
    "weights_hidden_output = np.random.rand(2, 1)\n",
    "bias_output = np.random.rand(1, 1) "
   ]
  },
  {
   "cell_type": "code",
   "execution_count": 5,
   "id": "9a5d3438",
   "metadata": {},
   "outputs": [
    {
     "name": "stdout",
     "output_type": "stream",
     "text": [
      "Epoch 0, Loss: 0.3247\n",
      "Epoch 1000, Loss: 0.2406\n",
      "Epoch 2000, Loss: 0.1960\n",
      "Epoch 3000, Loss: 0.1207\n",
      "Epoch 4000, Loss: 0.0305\n",
      "Epoch 5000, Loss: 0.0125\n",
      "Epoch 6000, Loss: 0.0074\n",
      "Epoch 7000, Loss: 0.0051\n",
      "Epoch 8000, Loss: 0.0038\n",
      "Epoch 9000, Loss: 0.0031\n"
     ]
    }
   ],
   "source": [
    "epochs = 10000\n",
    "learning_rate = 0.1\n",
    "\n",
    "for epoch in range(epochs):\n",
    "    hidden_input = np.dot(x, weights_input_hidden) + bias_hidden\n",
    "    hidden_output = sigmoid(hidden_input)\n",
    "\n",
    "    final_input = np.dot(hidden_output, weights_hidden_output) + bias_output\n",
    "    final_output = sigmoid(final_input)\n",
    "\n",
    "    loss = np.mean((y - final_output) ** 2) \n",
    "    error = y - final_output\n",
    "\n",
    "    d_output = error * sigmoid_derivative(final_output)\n",
    "\n",
    "    error_hidden = d_output.dot(weights_hidden_output.T)\n",
    "    d_hidden = error_hidden * sigmoid_derivative(hidden_output)\n",
    "\n",
    "    weights_hidden_output += hidden_output.T.dot(d_output) * learning_rate\n",
    "    bias_output += np.sum(d_output, axis=0, keepdims=True) * learning_rate\n",
    "    weights_input_hidden += x.T.dot(d_hidden) * learning_rate\n",
    "    bias_hidden += np.sum(d_hidden, axis=0, keepdims=True) * learning_rate\n",
    "\n",
    "    if epoch % 1000 == 0:\n",
    "        print(f\"Epoch {epoch}, Loss: {loss:.4f}\")"
   ]
  },
  {
   "cell_type": "code",
   "execution_count": 6,
   "id": "1492c195",
   "metadata": {},
   "outputs": [
    {
     "data": {
      "text/plain": [
       "array([[0.05322146],\n",
       "       [0.95171535],\n",
       "       [0.95160449],\n",
       "       [0.05175396]])"
      ]
     },
     "execution_count": 6,
     "metadata": {},
     "output_type": "execute_result"
    }
   ],
   "source": [
    "final_output"
   ]
  },
  {
   "cell_type": "code",
   "execution_count": 7,
   "id": "f3e258c0",
   "metadata": {},
   "outputs": [
    {
     "data": {
      "text/plain": [
       "array([[0.],\n",
       "       [1.],\n",
       "       [1.],\n",
       "       [0.]])"
      ]
     },
     "execution_count": 7,
     "metadata": {},
     "output_type": "execute_result"
    }
   ],
   "source": [
    "final_output.round()"
   ]
  }
 ],
 "metadata": {
  "kernelspec": {
   "display_name": "env",
   "language": "python",
   "name": "python3"
  },
  "language_info": {
   "codemirror_mode": {
    "name": "ipython",
    "version": 3
   },
   "file_extension": ".py",
   "mimetype": "text/x-python",
   "name": "python",
   "nbconvert_exporter": "python",
   "pygments_lexer": "ipython3",
   "version": "3.13.3"
  }
 },
 "nbformat": 4,
 "nbformat_minor": 5
}
